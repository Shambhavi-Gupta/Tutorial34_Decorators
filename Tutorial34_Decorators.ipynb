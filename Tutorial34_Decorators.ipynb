{
  "nbformat": 4,
  "nbformat_minor": 0,
  "metadata": {
    "colab": {
      "name": "Tutorial34_Decorators.ipynb",
      "provenance": [],
      "authorship_tag": "ABX9TyNLa6/DWE6NV2HXzpoFfNYY",
      "include_colab_link": true
    },
    "kernelspec": {
      "name": "python3",
      "display_name": "Python 3"
    }
  },
  "cells": [
    {
      "cell_type": "markdown",
      "metadata": {
        "id": "view-in-github",
        "colab_type": "text"
      },
      "source": [
        "<a href=\"https://colab.research.google.com/github/Shambhavi-Gupta/Tutorial34_Decorators/blob/main/Tutorial34_Decorators.ipynb\" target=\"_parent\"><img src=\"https://colab.research.google.com/assets/colab-badge.svg\" alt=\"Open In Colab\"/></a>"
      ]
    },
    {
      "cell_type": "code",
      "metadata": {
        "id": "--bNJjZM5s0X"
      },
      "source": [
        " def fun1():\r\n",
        "#     print(\"Fun With Data Science\")\r\n",
        "# fun2 = fun1\r\n",
        "# del fun1 #it will print because already a copy is made\r\n",
        "# fun2()\r\n",
        "\r\n",
        "# def funreturn(num):\r\n",
        "#    if num==0:\r\n",
        "#        return print\r\n",
        "#    if num==1:\r\n",
        "#        return sum\r\n",
        "#\r\n",
        "# a = funreturn(0)\r\n",
        "# print(a)\r\n",
        "\r\n",
        "# def execute(func):\r\n",
        "#    func(\"Subscribe now\")\r\n",
        "#\r\n",
        "# execute(print)\r\n",
        "\r\n",
        "#we can insert function inside function as an argument\r\n",
        "#we can return a function\r\n",
        "\r\n",
        "def decorate1(func1):\r\n",
        "    def exe():\r\n",
        "        print(\"Execute it\")\r\n",
        "        func1()\r\n",
        "        print(\"Done\")\r\n",
        "    return exe\r\n",
        "@decorate1\r\n",
        "def one():\r\n",
        "  print(\"ABCD\")\r\n",
        "\r\n",
        "# one = decorate1(one)\r\n",
        "one()"
      ],
      "execution_count": null,
      "outputs": []
    }
  ]
}